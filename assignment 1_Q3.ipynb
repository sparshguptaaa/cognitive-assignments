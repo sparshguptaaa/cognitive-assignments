{
 "cells": [
  {
   "cell_type": "markdown",
   "id": "3b582821",
   "metadata": {},
   "source": [
    "WAP to print the table of 7, 9."
   ]
  },
  {
   "cell_type": "code",
   "execution_count": 1,
   "id": "9e55835a-6af8-48b1-83ec-a897fae592bf",
   "metadata": {},
   "outputs": [
    {
     "name": "stdout",
     "output_type": "stream",
     "text": [
      "7  *  1  =  7\n",
      "7  *  2  =  14\n",
      "7  *  3  =  21\n",
      "7  *  4  =  28\n",
      "7  *  5  =  35\n",
      "7  *  6  =  42\n",
      "7  *  7  =  49\n",
      "7  *  8  =  56\n",
      "7  *  9  =  63\n",
      "7  *  10  =  70\n"
     ]
    }
   ],
   "source": [
    "for i in range(1,11):\n",
    "    print(7,\" * \", i , \" = \", i * 7)"
   ]
  },
  {
   "cell_type": "code",
   "execution_count": 2,
   "id": "ae13d768-d3fe-4ab6-9279-703a7a4505df",
   "metadata": {},
   "outputs": [
    {
     "name": "stdout",
     "output_type": "stream",
     "text": [
      "9  *  1  =  9\n",
      "9  *  2  =  18\n",
      "9  *  3  =  27\n",
      "9  *  4  =  36\n",
      "9  *  5  =  45\n",
      "9  *  6  =  54\n",
      "9  *  7  =  63\n",
      "9  *  8  =  72\n",
      "9  *  9  =  81\n",
      "9  *  10  =  90\n"
     ]
    }
   ],
   "source": [
    "for i in range(1,11):\n",
    "    print(9,\" * \", i , \" = \", i * 9)"
   ]
  },
  {
   "cell_type": "markdown",
   "id": "d54dc288",
   "metadata": {},
   "source": [
    " WAP to print the table of n and n is given by user."
   ]
  },
  {
   "cell_type": "code",
   "execution_count": 3,
   "id": "4f34dd7d-01aa-41fc-80d0-4d0651d13983",
   "metadata": {},
   "outputs": [
    {
     "name": "stdout",
     "output_type": "stream",
     "text": [
      "Enter No:  8\n"
     ]
    },
    {
     "name": "stdout",
     "output_type": "stream",
     "text": [
      "8  *  8  =  8\n",
      "8  *  8  =  16\n",
      "8  *  8  =  24\n",
      "8  *  8  =  32\n",
      "8  *  8  =  40\n",
      "8  *  8  =  48\n",
      "8  *  8  =  56\n",
      "8  *  8  =  64\n",
      "8  *  8  =  72\n",
      "8  *  8  =  80\n"
     ]
    }
   ],
   "source": [
    "n = int(input(\"Enter No: \"))\n",
    "for i in range(1,11):\n",
    "    print(n, \" * \", n , \" = \", i * n)"
   ]
  },
  {
   "cell_type": "markdown",
   "id": "a4538b4b",
   "metadata": {},
   "source": [
    "WAP to add all the numbers from 1 to n and n is given by user."
   ]
  },
  {
   "cell_type": "code",
   "execution_count": null,
   "id": "b01aef3f-9660-4ab8-8d1d-1d4d6ff8a784",
   "metadata": {},
   "outputs": [],
   "source": [
    "n = int(input(\"Enter No: \"))\n",
    "for i in range(1,11):\n",
    "    n=n+i\n",
    "print (\"sum is = \", n)"
   ]
  },
  {
   "cell_type": "code",
   "execution_count": null,
   "id": "5a647868-990e-4389-bcba-e48423b92ead",
   "metadata": {},
   "outputs": [],
   "source": []
  }
 ],
 "metadata": {
  "kernelspec": {
   "display_name": "Python 3 (ipykernel)",
   "language": "python",
   "name": "python3"
  },
  "language_info": {
   "codemirror_mode": {
    "name": "ipython",
    "version": 3
   },
   "file_extension": ".py",
   "mimetype": "text/x-python",
   "name": "python",
   "nbconvert_exporter": "python",
   "pygments_lexer": "ipython3",
   "version": "3.11.7"
  }
 },
 "nbformat": 4,
 "nbformat_minor": 5
}
