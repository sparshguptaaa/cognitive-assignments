{
 "cells": [
  {
   "cell_type": "markdown",
   "id": "b2e3e91e",
   "metadata": {},
   "source": [
    "WAP using function that add all odd numbers from 1 to n, n is given by the user."
   ]
  },
  {
   "cell_type": "code",
   "execution_count": null,
   "id": "65b00453-43c3-487c-b19a-80a4a6e33508",
   "metadata": {},
   "outputs": [
    {
     "name": "stdout",
     "output_type": "stream",
     "text": [
      "Enter the value of n:  25\n"
     ]
    },
    {
     "name": "stdout",
     "output_type": "stream",
     "text": [
      "The sum of all odd numbers from 1 to 25 is: 169\n"
     ]
    }
   ],
   "source": [
    "def sum_odd_numbers(n):\n",
    "    return sum(i for i in range(1, n+1, 2))  # Sum of odd numbers from 1 to n\n",
    "\n",
    "n = int(input(\"Enter the value of n: \"))\n",
    "\n",
    "result = sum_odd_numbers(n)\n",
    "print(f\"The sum of all odd numbers from 1 to {n} is: {result}\")\n"
   ]
  },
  {
   "cell_type": "markdown",
   "id": "8ef3ee24",
   "metadata": {},
   "source": [
    "WAP using function that add all prime numbers from 1 to n, n given by the user."
   ]
  },
  {
   "cell_type": "code",
   "execution_count": 2,
   "id": "7f4bc4d3-a0b8-4c27-a541-64e3dee46334",
   "metadata": {},
   "outputs": [
    {
     "name": "stdout",
     "output_type": "stream",
     "text": [
      "Enter the value of n:  79\n"
     ]
    },
    {
     "name": "stdout",
     "output_type": "stream",
     "text": [
      "The sum of all prime numbers from 1 to 79 is: 791\n"
     ]
    }
   ],
   "source": [
    "def is_prime(num):\n",
    "    if num <= 1:\n",
    "        return False\n",
    "    for i in range(2, int(num ** 0.5) + 1):\n",
    "        if num % i == 0:\n",
    "            return False\n",
    "    return True\n",
    "\n",
    "def sum_primes(n):\n",
    "    return sum(i for i in range(2, n+1) if is_prime(i))\n",
    "\n",
    "n = int(input(\"Enter the value of n: \"))\n",
    "\n",
    "result = sum_primes(n)\n",
    "print(f\"The sum of all prime numbers from 1 to {n} is: {result}\")\n"
   ]
  },
  {
   "cell_type": "code",
   "execution_count": null,
   "id": "8fd09164-6126-4b1f-9a74-e0b03053f632",
   "metadata": {},
   "outputs": [],
   "source": []
  }
 ],
 "metadata": {
  "kernelspec": {
   "display_name": "Python 3 (ipykernel)",
   "language": "python",
   "name": "python3"
  },
  "language_info": {
   "codemirror_mode": {
    "name": "ipython",
    "version": 3
   },
   "file_extension": ".py",
   "mimetype": "text/x-python",
   "name": "python",
   "nbconvert_exporter": "python",
   "pygments_lexer": "ipython3",
   "version": "3.11.7"
  }
 },
 "nbformat": 4,
 "nbformat_minor": 5
}
