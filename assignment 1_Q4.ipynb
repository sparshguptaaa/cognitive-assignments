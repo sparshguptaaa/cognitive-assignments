{
 "cells": [
  {
   "cell_type": "markdown",
   "id": "82abe607",
   "metadata": {},
   "source": [
    " WAP to find max amoung three numbers and input from user. [Try max() function]"
   ]
  },
  {
   "cell_type": "code",
   "execution_count": 5,
   "id": "a508a47c-bb47-4325-8b84-8442de1d8c62",
   "metadata": {},
   "outputs": [
    {
     "name": "stdout",
     "output_type": "stream",
     "text": [
      "Enter a No:  8\n",
      "Enter a No:  22\n",
      "Enter a No:  12\n"
     ]
    },
    {
     "name": "stdout",
     "output_type": "stream",
     "text": [
      "22\n"
     ]
    }
   ],
   "source": [
    "a = int(input(\"Enter a No: \"))\n",
    "b = int(input(\"Enter a No: \"))\n",
    "c = int(input(\"Enter a No: \"))\n",
    "d = (a, b, c)\n",
    "x = max(d)\n",
    "print(x)"
   ]
  },
  {
   "cell_type": "markdown",
   "id": "0e48596c",
   "metadata": {},
   "source": [
    "WAP to add all numbers divisible by 7 and 9 from 1 to n and n is given by the user."
   ]
  },
  {
   "cell_type": "code",
   "execution_count": 15,
   "id": "0b358604-46cc-46ed-98c0-8aadae4f4d4b",
   "metadata": {},
   "outputs": [
    {
     "name": "stdout",
     "output_type": "stream",
     "text": [
      "Enter a value for n:  81\n"
     ]
    },
    {
     "name": "stdout",
     "output_type": "stream",
     "text": [
      "The sum of numbers divisible by both 7 and 9 from 1 to 81 is: 63\n"
     ]
    }
   ],
   "source": [
    "def sum_divisible_by_7_and_9(n):\n",
    "    total_sum = 0\n",
    "    for i in range(1, n+1):\n",
    "        if i % 7 == 0 and i % 9 == 0:\n",
    "            total_sum += i\n",
    "    return total_sum\n",
    "\n",
    "n = int(input(\"Enter a value for n: \"))\n",
    "\n",
    "result = sum_divisible_by_7_and_9(n)\n",
    "print(f\"The sum of numbers divisible by both 7 and 9 from 1 to {n} is: {result}\")\n"
   ]
  },
  {
   "cell_type": "markdown",
   "id": "595fd456",
   "metadata": {},
   "source": [
    "WAP to add all prime numbers from 1 to n and n is given by the user."
   ]
  },
  {
   "cell_type": "code",
   "execution_count": null,
   "id": "175cef46-8594-4bff-85d2-4bdd05bf8f88",
   "metadata": {},
   "outputs": [],
   "source": [
    "def sum_of_primes(n):\n",
    "    total_sum = 0\n",
    "    for num in range(2, n+1):\n",
    "        if all(num % i != 0 for i in range(2, int(num**0.5) + 1)):\n",
    "            total_sum += num\n",
    "    return total_sum\n",
    "\n",
    "n = int(input(\"Enter a value for n: \"))\n",
    "print(f\"The sum of all prime numbers from 1 to {n} is: {sum_of_primes(n)}\")\n"
   ]
  }
 ],
 "metadata": {
  "kernelspec": {
   "display_name": "Python 3 (ipykernel)",
   "language": "python",
   "name": "python3"
  },
  "language_info": {
   "codemirror_mode": {
    "name": "ipython",
    "version": 3
   },
   "file_extension": ".py",
   "mimetype": "text/x-python",
   "name": "python",
   "nbconvert_exporter": "python",
   "pygments_lexer": "ipython3",
   "version": "3.11.7"
  }
 },
 "nbformat": 4,
 "nbformat_minor": 5
}
