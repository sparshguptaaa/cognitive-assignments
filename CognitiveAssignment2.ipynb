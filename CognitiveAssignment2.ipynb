{
  "nbformat": 4,
  "nbformat_minor": 0,
  "metadata": {
    "colab": {
      "provenance": []
    },
    "kernelspec": {
      "name": "python3",
      "display_name": "Python 3"
    },
    "language_info": {
      "name": "python"
    }
  },
  "cells": [
    {
      "cell_type": "markdown",
      "source": [
        "Q1Create a List L that is defined as= [10, 20, 30, 40, 50, 60, 70, 80].\n",
        "i. WAP to add 200 and 300 to L.\n",
        "ii. WAP to remove 10 and 30 from L.\n",
        "iii. WAP to sort L in ascending order.\n",
        "iv. WAP to sort L in descending order."
      ],
      "metadata": {
        "id": "eqJSpmDd0_dK"
      }
    },
    {
      "cell_type": "code",
      "execution_count": null,
      "metadata": {
        "colab": {
          "base_uri": "https://localhost:8080/"
        },
        "id": "IajKldCP06KR",
        "outputId": "4d6aa39e-10cf-4e35-a587-c7b80b6eccfa"
      },
      "outputs": [
        {
          "output_type": "stream",
          "name": "stdout",
          "text": [
            "[10, 20, 30, 40, 50, 60, 70, 80, 200, 300]\n",
            "[20, 40, 50, 60, 70, 80, 200, 300]\n",
            "[20, 40, 50, 60, 70, 80, 200, 300]\n",
            "[300, 200, 80, 70, 60, 50, 40, 20]\n"
          ]
        }
      ],
      "source": [
        "numbers=[10,20,30,40,50,60,70,80]\n",
        "numbers.append(200)\n",
        "numbers.append(300)\n",
        "print(numbers)\n",
        "\n",
        "numbers.remove(10)\n",
        "numbers.remove(30)\n",
        "print(numbers)\n",
        "\n",
        "numbers.sort()\n",
        "print(numbers)\n",
        "\n",
        "numbers.sort(reverse=True)\n",
        "print(numbers)"
      ]
    },
    {
      "cell_type": "markdown",
      "source": [
        "Q2: Create a tuple of marks scored as scores = (45, 89.5, 76, 45.4, 89, 92, 58, 45) and\n",
        "perform the following operations using tuple functions:\n",
        "i. Identify the highest score and its index in the tuple.\n",
        "ii. Find the lowest score and count how many times it appears.\n",
        "iii. Reverse the tuple and return it as a list.\n",
        "iv. Check if a specific score ‘76’ (input by the user) is present in the tuple and\n",
        "print its first occurrence index, or a message saying it’s not present."
      ],
      "metadata": {
        "id": "bu0EuV83-7jm"
      }
    },
    {
      "cell_type": "code",
      "source": [
        "Scores=(45,89.5,76,45.4,89,92,58,45)\n",
        "highest_score=max(Scores)\n",
        "highest_index=Scores.index(highest_score)\n",
        "print(f\"highest score is {highest_score} at index {highest_index}\")\n",
        "\n",
        "lowest_score=min(Scores)\n",
        "lowest_count=Scores.count(lowest_score)\n",
        "print(f\"lowest score is {lowest_score} and it appears {lowest_count} times\")\n",
        "\n",
        "reverse_scores=list(Scores[::-1])\n",
        "print(reverse_scores)\n",
        "print(type(reverse_scores))\n",
        "\n",
        "target_score=float(input(\"enter the target score: \"))\n",
        "if target_score in Scores:\n",
        "    index=Scores.index(target_score)\n",
        "    print(f\"target score {target_score} is present at index {index}\")\n",
        "else:\n",
        "    print(f\"target score {target_score} is not present in the tuple\")"
      ],
      "metadata": {
        "colab": {
          "base_uri": "https://localhost:8080/"
        },
        "id": "jmm6MmFT-8mU",
        "outputId": "26b65bac-a207-4a15-8741-1c798af2b5f4"
      },
      "execution_count": null,
      "outputs": [
        {
          "output_type": "stream",
          "name": "stdout",
          "text": [
            "highest score is 92 at index 5\n",
            "lowest score is 45 and it appears 2 times\n",
            "[45, 58, 92, 89, 45.4, 76, 89.5, 45]\n",
            "<class 'list'>\n",
            "enter the target score: 89\n",
            "target score 89.0 is present at index 4\n"
          ]
        }
      ]
    },
    {
      "cell_type": "markdown",
      "source": [
        "Q3:WAP to create a list of 100 random numbers between 100 and 900. Count and print\n",
        "the:\n",
        "i. All odd numbers\n",
        "ii. All even numbers\n",
        "iii. All prime numbers"
      ],
      "metadata": {
        "id": "CpGVDUViLrUx"
      }
    },
    {
      "cell_type": "code",
      "source": [
        "import random\n",
        "random_numbers=random.sample(range(100,900),100)\n",
        "print(f\"random list {random_numbers}\")\n",
        "\n",
        "#odd numbers\n",
        "odd_numbers=[num for num in random_numbers if num%2!=0]\n",
        "count_odd=len(odd_numbers)\n",
        "print(f\"odd numbers {odd_numbers}\")\n",
        "print(f\"count of odd numbers {count_odd}\")\n",
        "\n",
        "#even numbers\n",
        "even_numbers=[num for num in random_numbers if num%2==0]\n",
        "count_even=len(even_numbers)\n",
        "print(f\"even numbers {even_numbers}\")\n",
        "print(f\"count of even numbers {count_even}\")\n",
        "\n",
        "#prime numbers\n",
        "prime_numbers=[num for num in random_numbers if num>1 and all(num%i!=0 for i in range(2,int(num**0.5 + 1)))]\n",
        "count_prime=len(prime_numbers)\n",
        "print(f\"prime numbers {prime_numbers}\")\n",
        "print(f\"count of prime numbers {count_prime}\")"
      ],
      "metadata": {
        "colab": {
          "base_uri": "https://localhost:8080/"
        },
        "id": "3rx92YqWLsT1",
        "outputId": "07854335-8669-4fc4-80a0-6f0e9db5d3db"
      },
      "execution_count": null,
      "outputs": [
        {
          "output_type": "stream",
          "name": "stdout",
          "text": [
            "random list [349, 702, 602, 281, 572, 409, 628, 392, 687, 101, 457, 412, 231, 182, 258, 142, 850, 204, 216, 123, 293, 781, 275, 770, 303, 878, 816, 853, 843, 555, 636, 154, 320, 854, 607, 493, 138, 452, 336, 462, 601, 149, 819, 179, 899, 776, 344, 436, 807, 794, 479, 495, 657, 451, 566, 421, 810, 300, 768, 637, 697, 818, 324, 707, 874, 595, 855, 388, 331, 370, 530, 298, 128, 866, 863, 682, 322, 806, 542, 445, 266, 820, 115, 474, 239, 731, 514, 485, 624, 473, 769, 253, 193, 393, 517, 887, 752, 159, 205, 726]\n",
            "odd numbers [349, 281, 409, 687, 101, 457, 231, 123, 293, 781, 275, 303, 853, 843, 555, 607, 493, 601, 149, 819, 179, 899, 807, 479, 495, 657, 451, 421, 637, 697, 707, 595, 855, 331, 863, 445, 115, 239, 731, 485, 473, 769, 253, 193, 393, 517, 887, 159, 205]\n",
            "count of odd numbers 49\n",
            "even numbers [702, 602, 572, 628, 392, 412, 182, 258, 142, 850, 204, 216, 770, 878, 816, 636, 154, 320, 854, 138, 452, 336, 462, 776, 344, 436, 794, 566, 810, 300, 768, 818, 324, 874, 388, 370, 530, 298, 128, 866, 682, 322, 806, 542, 266, 820, 474, 514, 624, 752, 726]\n",
            "count of even numbers 51\n",
            "prime numbers [349, 281, 409, 101, 457, 293, 853, 607, 601, 149, 179, 479, 421, 331, 863, 239, 769, 193, 887]\n",
            "count of prime numbers 19\n"
          ]
        }
      ]
    },
    {
      "cell_type": "markdown",
      "source": [
        "Q4: Consider the following two sets, A and B, represenƟng scores of two teams in mulƟple\n",
        "matches. A = {34, 56, 78, 90} and B = {78, 45, 90, 23}\n",
        "WAP to perform the following operaƟons using set funcƟons:\n",
        "i. Find the unique scores achieved by both teams (union of sets).\n",
        "ii. IdenƟfy the scores that are common to both teams (intersecƟon of sets).\n",
        "iii. Find the scores that are exclusive to each team (symmetric difference).\n",
        "iv. Check if the scores of team A are a subset of team B, and if team B's scores are\n",
        "a superset of team A.\n",
        "v. Remove a specific score X (input by the user) from set A if it exists. If not, print\n",
        "a message saying it is not present."
      ],
      "metadata": {
        "id": "c1UFDnlLL-ky"
      }
    },
    {
      "cell_type": "code",
      "source": [
        "A= set([34,56,78,90])\n",
        "B= set([78,45,90,23])\n",
        "\n",
        "union_set= A.union(B)\n",
        "print(f\"unique scores achieved by both teams {union_set}\")\n",
        "\n",
        "intersection_set=A.intersection(B)\n",
        "print(f\"Scores common to both teams {intersection_set}\")\n",
        "\n",
        "symmetric_difference_set=A.symmetric_difference(B)\n",
        "print(f\"Scores exclusive to each team {symmetric_difference_set}\")\n",
        "\n",
        "is_subset=A.issubset(B)\n",
        "is_superset=B.issuperset(A)\n",
        "print(f\"A is a subset of B {is_subset}\")\n",
        "print(f\"B is a superset of A {is_superset}\")\n",
        "\n",
        "X=int(input(\"enter score to remove from set A: \"))\n",
        "if X in A:\n",
        "    A.remove(X)\n",
        "    print(f\"removed {X} from set A\")\n",
        "    print(f\"new set A after removing {X} : {A}\")\n",
        "else:\n",
        "    print(f\"{X} is not present in set A\")"
      ],
      "metadata": {
        "colab": {
          "base_uri": "https://localhost:8080/"
        },
        "id": "H6hXGXsEL_e8",
        "outputId": "f1283919-896e-4a7e-c182-6b5de5d8fa5c"
      },
      "execution_count": null,
      "outputs": [
        {
          "output_type": "stream",
          "name": "stdout",
          "text": [
            "unique scores achieved by both teams {34, 45, 78, 23, 56, 90}\n",
            "Scores common to both teams {90, 78}\n",
            "Scores exclusive to each team {34, 45, 23, 56}\n",
            "A is a subset of B False\n",
            "B is a superset of A False\n",
            "enter score to remove from set A: 56\n",
            "removed 56 from set A\n",
            "new set A after removing 56 : {34, 90, 78}\n"
          ]
        }
      ]
    },
    {
      "cell_type": "markdown",
      "source": [
        "Q5: Write a program to rename a key city to a locaƟon in the following dicƟonary."
      ],
      "metadata": {
        "id": "f8Ecxv1FNrHO"
      }
    },
    {
      "cell_type": "code",
      "source": [
        "sample_dict= {\n",
        "    \"name\":\"John\",\n",
        "    \"age\":25,\n",
        "    \"salary\":8000,\n",
        "    \"city\":\"New York\"\n",
        "}\n",
        "\n",
        "sample_dict[\"location\"]=sample_dict.pop(\"city\")\n",
        "print(sample_dict)"
      ],
      "metadata": {
        "colab": {
          "base_uri": "https://localhost:8080/"
        },
        "id": "LG4g0Sw8NsCb",
        "outputId": "e20d5a74-f18b-4a30-8137-c0b2c01d627b"
      },
      "execution_count": null,
      "outputs": [
        {
          "output_type": "stream",
          "name": "stdout",
          "text": [
            "{'name': 'John', 'age': 25, 'salary': 8000, 'location': 'New York'}\n"
          ]
        }
      ]
    }
  ]
}